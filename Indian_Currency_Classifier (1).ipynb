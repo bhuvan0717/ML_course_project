{
  "nbformat": 4,
  "nbformat_minor": 0,
  "metadata": {
    "colab": {
      "name": "Indian Currency Classifier.ipynb",
      "provenance": []
    },
    "kernelspec": {
      "name": "python3",
      "display_name": "Python 3"
    },
    "accelerator": "GPU"
  },
  "cells": [
    {
      "cell_type": "code",
      "metadata": {
        "id": "sIfQie7odv0Z"
      },
      "source": [
        "import os\n",
        "import zipfile\n",
        "import tensorflow as tf\n",
        "from tensorflow.keras.optimizers import RMSprop\n",
        "from tensorflow.keras.preprocessing.image import ImageDataGenerator\n",
        "from tensorflow.keras.layers import Input, Lambda, Dense, Flatten"
      ],
      "execution_count": 33,
      "outputs": []
    },
    {
      "cell_type": "code",
      "metadata": {
        "id": "Ed9MoqRTgzVj"
      },
      "source": [
        "train_dir = '/content/drive/MyDrive/Indian-Currency-Classifier-master/indian_currency_new/training'\n",
        "validation_dir = '/content/drive/MyDrive/Indian-Currency-Classifier-master/indian_currency_new/validation'"
      ],
      "execution_count": 15,
      "outputs": []
    },
    {
      "cell_type": "code",
      "metadata": {
        "id": "fTXMNhkrhBV2"
      },
      "source": [
        "train_10_dir = os.path.join(train_dir, '10')\n",
        "train_100_dir = os.path.join(train_dir, '100')\n",
        "train_20_dir = os.path.join(train_dir, '20')\n",
        "train_200_dir = os.path.join(train_dir, '200')\n",
        "train_2000_dir = os.path.join(train_dir, '2000')\n",
        "train_50_dir = os.path.join(train_dir, '50')\n",
        "train_500_dir = os.path.join(train_dir, '500')"
      ],
      "execution_count": 6,
      "outputs": []
    },
    {
      "cell_type": "code",
      "metadata": {
        "id": "ocSYzcNKhczW"
      },
      "source": [
        "validation_10_dir = os.path.join(validation_dir, '10')\n",
        "validation_100_dir = os.path.join(validation_dir, '100')\n",
        "validation_20_dir = os.path.join(validation_dir, '20')\n",
        "validation_200_dir = os.path.join(validation_dir, '200')\n",
        "validation_2000_dir = os.path.join(validation_dir, '2000')\n",
        "validation_50_dir = os.path.join(validation_dir, '50')\n",
        "validation_500_dir = os.path.join(validation_dir, '500')"
      ],
      "execution_count": 7,
      "outputs": []
    },
    {
      "cell_type": "code",
      "metadata": {
        "id": "6tLSoYmyh8OW"
      },
      "source": [
        "model = tf.keras.models.Sequential([\n",
        "    tf.keras.layers.Conv2D(32, (3,3), activation='relu', input_shape=(150, 150, 3)),\n",
        "    tf.keras.layers.MaxPooling2D(2, 2),\n",
        "    tf.keras.layers.Conv2D(64, (3,3), activation='relu'),\n",
        "    tf.keras.layers.MaxPooling2D(2,2),\n",
        "    tf.keras.layers.Conv2D(128, (3,3), activation='relu'),\n",
        "    tf.keras.layers.MaxPooling2D(2,2),\n",
        "    #tf.keras.layers.Conv2D(128, (3,3), activation='relu'),\n",
        "    #tf.keras.layers.MaxPooling2D(2,2),\n",
        "    tf.keras.layers.Flatten(),\n",
        "    tf.keras.layers.Dense(250, activation='relu'),\n",
        "    tf.keras.layers.Dense(7, activation='softmax')\n",
        "])"
      ],
      "execution_count": 8,
      "outputs": []
    },
    {
      "cell_type": "code",
      "metadata": {
        "id": "n6IC2xoBiRhG"
      },
      "source": [
        "model.compile(loss='categorical_crossentropy', optimizer='adam', metrics=['accuracy'])"
      ],
      "execution_count": 9,
      "outputs": []
    },
    {
      "cell_type": "code",
      "metadata": {
        "id": "gzLAeAK6iasD"
      },
      "source": [
        "train_datagen = ImageDataGenerator(rescale=1./255)\n",
        "test_datagen = ImageDataGenerator(rescale=1./255)"
      ],
      "execution_count": 10,
      "outputs": []
    },
    {
      "cell_type": "code",
      "metadata": {
        "id": "AOwpsV-nieWI",
        "colab": {
          "base_uri": "https://localhost:8080/"
        },
        "outputId": "46b6a651-f6fb-40a8-8504-1f9c709b8f16"
      },
      "source": [
        "train_generator = train_datagen.flow_from_directory(\n",
        "        train_dir,  # This is the source directory for training images\n",
        "        target_size=(150, 150),  # All images will be resized to 150x150\n",
        "        batch_size=1,\n",
        "        # Since we use binary_crossentropy loss, we need binary labels\n",
        "        class_mode='categorical')"
      ],
      "execution_count": 16,
      "outputs": [
        {
          "output_type": "stream",
          "name": "stdout",
          "text": [
            "Found 584 images belonging to 7 classes.\n"
          ]
        }
      ]
    },
    {
      "cell_type": "code",
      "source": [
        "from google.colab import drive\n",
        "drive.mount('/content/drive')"
      ],
      "metadata": {
        "colab": {
          "base_uri": "https://localhost:8080/"
        },
        "id": "Po72dHA6DJy_",
        "outputId": "5c6216ff-e8de-4b5e-f425-b9410e37ef93"
      },
      "execution_count": 17,
      "outputs": [
        {
          "output_type": "stream",
          "name": "stdout",
          "text": [
            "Drive already mounted at /content/drive; to attempt to forcibly remount, call drive.mount(\"/content/drive\", force_remount=True).\n"
          ]
        }
      ]
    },
    {
      "cell_type": "code",
      "metadata": {
        "id": "tcuEGSjsjRXD",
        "colab": {
          "base_uri": "https://localhost:8080/"
        },
        "outputId": "222d08bd-de9e-4d26-c111-9fff21b9a521"
      },
      "source": [
        "validation_generator = test_datagen.flow_from_directory(\n",
        "        validation_dir,\n",
        "        target_size=(150, 150),\n",
        "        batch_size=1,\n",
        "        class_mode='categorical')"
      ],
      "execution_count": 21,
      "outputs": [
        {
          "output_type": "stream",
          "name": "stdout",
          "text": [
            "Found 167 images belonging to 7 classes.\n"
          ]
        }
      ]
    },
    {
      "cell_type": "code",
      "metadata": {
        "id": "L2hT1biljdIF",
        "colab": {
          "base_uri": "https://localhost:8080/"
        },
        "outputId": "b3c527de-948d-4402-cca7-08210e559f9b"
      },
      "source": [
        "history = model.fit_generator(\n",
        "      train_generator,\n",
        "      steps_per_epoch=584,  # images = batch_size * steps\n",
        "      epochs=20,\n",
        "      validation_data=validation_generator,\n",
        "      validation_steps=167,  # images = batch_size * steps\n",
        "      verbose=1)"
      ],
      "execution_count": 22,
      "outputs": [
        {
          "output_type": "stream",
          "name": "stdout",
          "text": [
            "Epoch 1/20\n",
            "  5/584 [..............................] - ETA: 9s - loss: 0.9949 - accuracy: 0.4000 "
          ]
        },
        {
          "output_type": "stream",
          "name": "stderr",
          "text": [
            "<ipython-input-22-bb087c5cac9c>:1: UserWarning: `Model.fit_generator` is deprecated and will be removed in a future version. Please use `Model.fit`, which supports generators.\n",
            "  history = model.fit_generator(\n"
          ]
        },
        {
          "output_type": "stream",
          "name": "stdout",
          "text": [
            "584/584 [==============================] - 24s 42ms/step - loss: 1.1508 - accuracy: 0.5908 - val_loss: 1.3247 - val_accuracy: 0.7305\n",
            "Epoch 2/20\n",
            "584/584 [==============================] - 25s 42ms/step - loss: 0.6957 - accuracy: 0.7688 - val_loss: 1.0482 - val_accuracy: 0.8443\n",
            "Epoch 3/20\n",
            "584/584 [==============================] - 25s 42ms/step - loss: 0.3129 - accuracy: 0.9058 - val_loss: 1.1015 - val_accuracy: 0.8862\n",
            "Epoch 4/20\n",
            "584/584 [==============================] - 25s 42ms/step - loss: 0.2547 - accuracy: 0.9332 - val_loss: 1.3868 - val_accuracy: 0.8982\n",
            "Epoch 5/20\n",
            "584/584 [==============================] - 24s 41ms/step - loss: 0.2356 - accuracy: 0.9384 - val_loss: 1.6050 - val_accuracy: 0.8922\n",
            "Epoch 6/20\n",
            "584/584 [==============================] - 26s 45ms/step - loss: 0.1564 - accuracy: 0.9760 - val_loss: 1.3898 - val_accuracy: 0.9102\n",
            "Epoch 7/20\n",
            "584/584 [==============================] - 24s 42ms/step - loss: 0.0810 - accuracy: 0.9846 - val_loss: 1.2794 - val_accuracy: 0.9162\n",
            "Epoch 8/20\n",
            "584/584 [==============================] - 25s 42ms/step - loss: 0.0302 - accuracy: 0.9949 - val_loss: 1.5894 - val_accuracy: 0.9162\n",
            "Epoch 9/20\n",
            "584/584 [==============================] - 24s 42ms/step - loss: 0.0106 - accuracy: 0.9983 - val_loss: 1.5256 - val_accuracy: 0.9042\n",
            "Epoch 10/20\n",
            "584/584 [==============================] - 26s 45ms/step - loss: 0.0240 - accuracy: 0.9966 - val_loss: 1.5163 - val_accuracy: 0.9102\n",
            "Epoch 11/20\n",
            "584/584 [==============================] - 27s 46ms/step - loss: 0.0171 - accuracy: 0.9966 - val_loss: 1.3031 - val_accuracy: 0.9102\n",
            "Epoch 12/20\n",
            "584/584 [==============================] - 26s 44ms/step - loss: 0.0079 - accuracy: 0.9983 - val_loss: 1.2154 - val_accuracy: 0.9102\n",
            "Epoch 13/20\n",
            "584/584 [==============================] - 24s 42ms/step - loss: 0.0111 - accuracy: 0.9983 - val_loss: 1.0972 - val_accuracy: 0.9162\n",
            "Epoch 14/20\n",
            "584/584 [==============================] - 24s 42ms/step - loss: 0.0069 - accuracy: 0.9983 - val_loss: 1.3185 - val_accuracy: 0.9042\n",
            "Epoch 15/20\n",
            "584/584 [==============================] - 25s 42ms/step - loss: 0.5966 - accuracy: 0.8818 - val_loss: 1.3438 - val_accuracy: 0.9102\n",
            "Epoch 16/20\n",
            "584/584 [==============================] - 24s 42ms/step - loss: 0.0920 - accuracy: 0.9743 - val_loss: 1.6619 - val_accuracy: 0.9102\n",
            "Epoch 17/20\n",
            "584/584 [==============================] - 24s 42ms/step - loss: 0.0671 - accuracy: 0.9863 - val_loss: 2.2966 - val_accuracy: 0.9102\n",
            "Epoch 18/20\n",
            "584/584 [==============================] - 26s 44ms/step - loss: 0.0143 - accuracy: 0.9966 - val_loss: 1.9925 - val_accuracy: 0.9281\n",
            "Epoch 19/20\n",
            "584/584 [==============================] - 24s 41ms/step - loss: 0.0101 - accuracy: 0.9966 - val_loss: 2.1517 - val_accuracy: 0.9102\n",
            "Epoch 20/20\n",
            "584/584 [==============================] - 24s 42ms/step - loss: 0.0054 - accuracy: 0.9983 - val_loss: 2.0183 - val_accuracy: 0.9102\n"
          ]
        }
      ]
    },
    {
      "cell_type": "code",
      "metadata": {
        "id": "8A7rfZOmkFcF",
        "colab": {
          "base_uri": "https://localhost:8080/",
          "height": 545
        },
        "outputId": "50f5feab-180a-428d-a0ce-a03568568d72"
      },
      "source": [
        "import matplotlib.pyplot as plt\n",
        "acc = history.history['accuracy']\n",
        "val_acc = history.history['val_accuracy']\n",
        "loss = history.history['loss']\n",
        "val_loss = history.history['val_loss']\n",
        "\n",
        "epochs = range(len(acc))\n",
        "\n",
        "plt.plot(epochs, acc, 'bo', label='Training accuracy')\n",
        "plt.plot(epochs, val_acc, 'b', label='Validation accuracy')\n",
        "plt.title('Training and validation accuracy')\n",
        "\n",
        "plt.figure()\n",
        "\n",
        "plt.plot(epochs, loss, 'bo', label='Training Loss')\n",
        "plt.plot(epochs, val_loss, 'b', label='Validation Loss')\n",
        "plt.title('Training and validation loss')\n",
        "plt.legend()\n",
        "\n",
        "plt.show()"
      ],
      "execution_count": 72,
      "outputs": [
        {
          "output_type": "display_data",
          "data": {
            "text/plain": [
              "<Figure size 432x288 with 1 Axes>"
            ],
            "image/png": "[encoded data removed]"
          },
          "metadata": {
            "needs_background": "light"
          }
        },
        {
          "output_type": "display_data",
          "data": {
            "text/plain": [
              "<Figure size 432x288 with 1 Axes>"
            ],
            "image/png": "[encoded data removed]"
          },
          "metadata": {
            "needs_background": "light"
          }
        }
      ]
    },
    {
      "cell_type": "code",
      "metadata": {
        "id": "SFhLICI8sBKk",
        "colab": {
          "base_uri": "https://localhost:8080/",
          "height": 129
        },
        "outputId": "5361ec15-303d-4e24-e17c-7fbbdf8c705f"
      },
      "source": [
        "import numpy as np\n",
        "from google.colab import files\n",
        "from keras.preprocessing import image\n",
        "from tensorflow.keras.utils import load_img\n",
        "from tensorflow.keras.utils import img_to_array\n",
        "from keras.preprocessing import image\n",
        "\n",
        "uploaded = files.upload()\n",
        "\n",
        "for fn in uploaded.keys():\n",
        " \n",
        "  # predicting images\n",
        "  path = fn\n",
        "  img =load_img(path, target_size=(150, 150))\n",
        "  x = img_to_array(img)\n",
        "  x = np.expand_dims(x, axis=0)\n",
        "\n",
        "  images = np.vstack([x])\n",
        "  classes = model.predict(images, batch_size=10)\n",
        "  print(fn)\n",
        "  if classes[0][0] == 1:\n",
        "    print(\"10\")\n",
        "  if classes[0][1] == 1:\n",
        "    print(\"100\")\n",
        "  if classes[0][2] == 1:\n",
        "    print(\"20\")\n",
        "  if classes[0][3] == 1:\n",
        "    print(\"200\")\n",
        "  if classes[0][4] == 1:\n",
        "    print(\"2000\")\n",
        "  if classes[0][5] == 1:\n",
        "    print(\"50\")\n",
        "  if classes[0][6] == 1:\n",
        "    print(\"500\")"
      ],
      "execution_count": 76,
      "outputs": [
        {
          "output_type": "display_data",
          "data": {
            "text/plain": [
              "<IPython.core.display.HTML object>"
            ],
            "text/html": [
              "\n",
              "     <input type=\"file\" id=\"files-b022b20d-c88c-4469-bed8-864832b79dbf\" name=\"files[]\" multiple disabled\n",
              "        style=\"border:none\" />\n",
              "     <output id=\"result-b022b20d-c88c-4469-bed8-864832b79dbf\">\n",
              "      Upload widget is only available when the cell has been executed in the\n",
              "      current browser session. Please rerun this cell to enable.\n",
              "      </output>\n",
              "      <script>// Copyright 2017 Google LLC\n",
              "//\n",
              "// Licensed under the Apache License, Version 2.0 (the \"License\");\n",
              "// you may not use this file except in compliance with the License.\n",
              "// You may obtain a copy of the License at\n",
              "//\n",
              "//      http://www.apache.org/licenses/LICENSE-2.0\n",
              "//\n",
              "// Unless required by applicable law or agreed to in writing, software\n",
              "// distributed under the License is distributed on an \"AS IS\" BASIS,\n",
              "// WITHOUT WARRANTIES OR CONDITIONS OF ANY KIND, either express or implied.\n",
              "// See the License for the specific language governing permissions and\n",
              "// limitations under the License.\n",
              "\n",
              "/**\n",
              " * @fileoverview Helpers for google.colab Python module.\n",
              " */\n",
              "(function(scope) {\n",
              "function span(text, styleAttributes = {}) {\n",
              "  const element = document.createElement('span');\n",
              "  element.textContent = text;\n",
              "  for (const key of Object.keys(styleAttributes)) {\n",
              "    element.style[key] = styleAttributes[key];\n",
              "  }\n",
              "  return element;\n",
              "}\n",
              "\n",
              "// Max number of bytes which will be uploaded at a time.\n",
              "const MAX_PAYLOAD_SIZE = 100 * 1024;\n",
              "\n",
              "function _uploadFiles(inputId, outputId) {\n",
              "  const steps = uploadFilesStep(inputId, outputId);\n",
              "  const outputElement = document.getElementById(outputId);\n",
              "  // Cache steps on the outputElement to make it available for the next call\n",
              "  // to uploadFilesContinue from Python.\n",
              "  outputElement.steps = steps;\n",
              "\n",
              "  return _uploadFilesContinue(outputId);\n",
              "}\n",
              "\n",
              "// This is roughly an async generator (not supported in the browser yet),\n",
              "// where there are multiple asynchronous steps and the Python side is going\n",
              "// to poll for completion of each step.\n",
              "// This uses a Promise to block the python side on completion of each step,\n",
              "// then passes the result of the previous step as the input to the next step.\n",
              "function _uploadFilesContinue(outputId) {\n",
              "  const outputElement = document.getElementById(outputId);\n",
              "  const steps = outputElement.steps;\n",
              "\n",
              "  const next = steps.next(outputElement.lastPromiseValue);\n",
              "  return Promise.resolve(next.value.promise).then((value) => {\n",
              "    // Cache the last promise value to make it available to the next\n",
              "    // step of the generator.\n",
              "    outputElement.lastPromiseValue = value;\n",
              "    return next.value.response;\n",
              "  });\n",
              "}\n",
              "\n",
              "/**\n",
              " * Generator function which is called between each async step of the upload\n",
              " * process.\n",
              " * @param {string} inputId Element ID of the input file picker element.\n",
              " * @param {string} outputId Element ID of the output display.\n",
              " * @return {!Iterable<!Object>} Iterable of next steps.\n",
              " */\n",
              "function* uploadFilesStep(inputId, outputId) {\n",
              "  const inputElement = document.getElementById(inputId);\n",
              "  inputElement.disabled = false;\n",
              "\n",
              "  const outputElement = document.getElementById(outputId);\n",
              "  outputElement.innerHTML = '';\n",
              "\n",
              "  const pickedPromise = new Promise((resolve) => {\n",
              "    inputElement.addEventListener('change', (e) => {\n",
              "      resolve(e.target.files);\n",
              "    });\n",
              "  });\n",
              "\n",
              "  const cancel = document.createElement('button');\n",
              "  inputElement.parentElement.appendChild(cancel);\n",
              "  cancel.textContent = 'Cancel upload';\n",
              "  const cancelPromise = new Promise((resolve) => {\n",
              "    cancel.onclick = () => {\n",
              "      resolve(null);\n",
              "    };\n",
              "  });\n",
              "\n",
              "  // Wait for the user to pick the files.\n",
              "  const files = yield {\n",
              "    promise: Promise.race([pickedPromise, cancelPromise]),\n",
              "    response: {\n",
              "      action: 'starting',\n",
              "    }\n",
              "  };\n",
              "\n",
              "  cancel.remove();\n",
              "\n",
              "  // Disable the input element since further picks are not allowed.\n",
              "  inputElement.disabled = true;\n",
              "\n",
              "  if (!files) {\n",
              "    return {\n",
              "      response: {\n",
              "        action: 'complete',\n",
              "      }\n",
              "    };\n",
              "  }\n",
              "\n",
              "  for (const file of files) {\n",
              "    const li = document.createElement('li');\n",
              "    li.append(span(file.name, {fontWeight: 'bold'}));\n",
              "    li.append(span(\n",
              "        `(${file.type || 'n/a'}) - ${file.size} bytes, ` +\n",
              "        `last modified: ${\n",
              "            file.lastModifiedDate ? file.lastModifiedDate.toLocaleDateString() :\n",
              "                                    'n/a'} - `));\n",
              "    const percent = span('0% done');\n",
              "    li.appendChild(percent);\n",
              "\n",
              "    outputElement.appendChild(li);\n",
              "\n",
              "    const fileDataPromise = new Promise((resolve) => {\n",
              "      const reader = new FileReader();\n",
              "      reader.onload = (e) => {\n",
              "        resolve(e.target.result);\n",
              "      };\n",
              "      reader.readAsArrayBuffer(file);\n",
              "    });\n",
              "    // Wait for the data to be ready.\n",
              "    let fileData = yield {\n",
              "      promise: fileDataPromise,\n",
              "      response: {\n",
              "        action: 'continue',\n",
              "      }\n",
              "    };\n",
              "\n",
              "    // Use a chunked sending to avoid message size limits. See b/62115660.\n",
              "    let position = 0;\n",
              "    do {\n",
              "      const length = Math.min(fileData.byteLength - position, MAX_PAYLOAD_SIZE);\n",
              "      const chunk = new Uint8Array(fileData, position, length);\n",
              "      position += length;\n",
              "\n",
              "      const base64 = btoa(String.fromCharCode.apply(null, chunk));\n",
              "      yield {\n",
              "        response: {\n",
              "          action: 'append',\n",
              "          file: file.name,\n",
              "          data: base64,\n",
              "        },\n",
              "      };\n",
              "\n",
              "      let percentDone = fileData.byteLength === 0 ?\n",
              "          100 :\n",
              "          Math.round((position / fileData.byteLength) * 100);\n",
              "      percent.textContent = `${percentDone}% done`;\n",
              "\n",
              "    } while (position < fileData.byteLength);\n",
              "  }\n",
              "\n",
              "  // All done.\n",
              "  yield {\n",
              "    response: {\n",
              "      action: 'complete',\n",
              "    }\n",
              "  };\n",
              "}\n",
              "\n",
              "scope.google = scope.google || {};\n",
              "scope.google.colab = scope.google.colab || {};\n",
              "scope.google.colab._files = {\n",
              "  _uploadFiles,\n",
              "  _uploadFilesContinue,\n",
              "};\n",
              "})(self);\n",
              "</script> "
            ]
          },
          "metadata": {}
        },
        {
          "output_type": "stream",
          "name": "stdout",
          "text": [
            "Saving 44.jpg to 44.jpg\n",
            "1/1 [==============================] - 0s 15ms/step\n",
            "44.jpg\n",
            "20\n"
          ]
        }
      ]
    }
  ]
}